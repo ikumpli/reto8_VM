{
 "cells": [
  {
   "cell_type": "code",
   "execution_count": 1,
   "metadata": {},
   "outputs": [],
   "source": [
    "import requests\n",
    "from elasticsearch import Elasticsearch \n",
    "\n",
    "\n",
    "es = Elasticsearch([{'host': 'localhost', 'port': 9200}])"
   ]
  },
  {
   "cell_type": "code",
   "execution_count": 22,
   "metadata": {},
   "outputs": [],
   "source": [
    "#res = es.get(index = \"pub_sus_elastic\", id=\"UqvYVnkBznQBBrkeSIfm\")\n",
    "res = es.search(index = \"pub_sus_elastic\", body={\"size\":1}, sort='@timestamp:desc')\n",
    "msg = \"Los valores del cti1 son: %s\" %(res)"
   ]
  },
  {
   "cell_type": "code",
   "execution_count": 23,
   "metadata": {},
   "outputs": [
    {
     "data": {
      "text/plain": [
       "{'took': 130,\n",
       " 'timed_out': False,\n",
       " '_shards': {'total': 1, 'successful': 1, 'skipped': 0, 'failed': 0},\n",
       " 'hits': {'total': {'value': 661, 'relation': 'eq'},\n",
       "  'max_score': None,\n",
       "  'hits': [{'_index': 'pub_sus_elastic',\n",
       "    '_type': '_doc',\n",
       "    '_id': 'Oh4EW3kBW8EfKSh7z72_',\n",
       "    '_score': None,\n",
       "    '_source': {'@timestamp': '2021-05-11T10:41:52.569252+00:00',\n",
       "     'tension': 267,\n",
       "     'temperatura': 25},\n",
       "    'sort': [1620729712569]}]}}"
      ]
     },
     "execution_count": 23,
     "metadata": {},
     "output_type": "execute_result"
    }
   ],
   "source": [
    "res"
   ]
  },
  {
   "cell_type": "code",
   "execution_count": 21,
   "metadata": {},
   "outputs": [
    {
     "data": {
      "text/plain": [
       "{'@timestamp': '2021-05-10T15:12:25.439319+00:00',\n",
       " 'tension': 365,\n",
       " 'temperatura': 26}"
      ]
     },
     "execution_count": 21,
     "metadata": {},
     "output_type": "execute_result"
    }
   ],
   "source": [
    "res[\"hits\"][\"hits\"][0][\"_source\"]"
   ]
  },
  {
   "cell_type": "code",
   "execution_count": null,
   "metadata": {},
   "outputs": [],
   "source": []
  }
 ],
 "metadata": {
  "kernelspec": {
   "display_name": "Python 3",
   "language": "python",
   "name": "python3"
  },
  "language_info": {
   "codemirror_mode": {
    "name": "ipython",
    "version": 3
   },
   "file_extension": ".py",
   "mimetype": "text/x-python",
   "name": "python",
   "nbconvert_exporter": "python",
   "pygments_lexer": "ipython3",
   "version": "3.8.5"
  }
 },
 "nbformat": 4,
 "nbformat_minor": 4
}
